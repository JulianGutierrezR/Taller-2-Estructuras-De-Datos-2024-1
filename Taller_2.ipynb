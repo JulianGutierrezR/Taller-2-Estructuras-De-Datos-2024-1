{
  "nbformat": 4,
  "nbformat_minor": 0,
  "metadata": {
    "colab": {
      "provenance": [],
      "authorship_tag": "ABX9TyOee5yScE4Ch69aIHA6uLaE",
      "include_colab_link": true
    },
    "kernelspec": {
      "name": "python3",
      "display_name": "Python 3"
    },
    "language_info": {
      "name": "python"
    },
    "accelerator": "TPU"
  },
  "cells": [
    {
      "cell_type": "markdown",
      "metadata": {
        "id": "view-in-github",
        "colab_type": "text"
      },
      "source": [
        "<a href=\"https://colab.research.google.com/github/JulianGutierrezR/Taller-2-Estructuras-De-Datos-2024-1/blob/main/Taller_2.ipynb\" target=\"_parent\"><img src=\"https://colab.research.google.com/assets/colab-badge.svg\" alt=\"Open In Colab\"/></a>"
      ]
    },
    {
      "cell_type": "markdown",
      "source": [
        "Algoritmo en Python"
      ],
      "metadata": {
        "id": "YzIhsUlsq_ot"
      }
    },
    {
      "cell_type": "code",
      "execution_count": null,
      "metadata": {
        "colab": {
          "base_uri": "https://localhost:8080/"
        },
        "id": "NUO7LnhnqtHp",
        "outputId": "bd139ec2-94a4-4028-a068-abe2fcce9e12"
      },
      "outputs": [
        {
          "output_type": "stream",
          "name": "stdout",
          "text": [
            "Tiempo de ejecución con NumPy: 0.13899517059326172\n",
            "Tiempo de ejecución con Python puro: 347.58750653266907\n"
          ]
        }
      ],
      "source": [
        "import numpy as np\n",
        "import time\n",
        "\n",
        "def multiply_matrices_numpy(a, b):\n",
        "    return np.dot(a, b)\n",
        "\n",
        "def multiply_matrices_python(a, b):\n",
        "    if len(a[0]) != len(b):\n",
        "        raise ValueError(\"Las dimensiones de las matrices no son compatibles para la multiplicación.\")\n",
        "\n",
        "    result = [[0 for _ in range(len(b[0]))] for _ in range(len(a))]\n",
        "    for i in range(len(a)):\n",
        "        for j in range(len(b[0])):\n",
        "            for k in range(len(b)):\n",
        "                result[i][j] += a[i][k] * b[k][j]\n",
        "    return result\n",
        "\n",
        "def generate_large_matrix(size):\n",
        "    return np.random.rand(size, size)\n",
        "\n",
        "def measure_execution_time(func, *args):\n",
        "    start_time = time.time()\n",
        "    func(*args)\n",
        "    end_time = time.time()\n",
        "    return end_time - start_time\n",
        "\n",
        "# Definir el tamaño de las matrices\n",
        "matrix_size = 1000\n",
        "\n",
        "# Generar matrices grandes\n",
        "matrix_a = generate_large_matrix(matrix_size)\n",
        "matrix_b = generate_large_matrix(matrix_size)\n",
        "\n",
        "# Medir el tiempo de ejecución con NumPy\n",
        "numpy_time = measure_execution_time(multiply_matrices_numpy, matrix_a, matrix_b)\n",
        "print(\"Tiempo de ejecución con NumPy:\", numpy_time)\n",
        "\n",
        "# Medir el tiempo de ejecución con Python puro\n",
        "python_time = measure_execution_time(multiply_matrices_python, matrix_a.tolist(), matrix_b.tolist())\n",
        "print(\"Tiempo de ejecución con Python puro:\", python_time)\n"
      ]
    },
    {
      "cell_type": "markdown",
      "source": [
        "\n",
        "El algoritmo implementado en el script es una multiplicación de matrices. La multiplicación de matrices es una operación fundamental en el álgebra lineal y se utiliza ampliamente en diversas aplicaciones, como gráficos por computadora, procesamiento de imágenes, aprendizaje automático, etc.\n",
        "\n",
        "En el script, se definen dos funciones para multiplicar matrices: una utilizando la biblioteca NumPy de Python y otra implementada manualmente utilizando listas de Python. Ambas funciones toman dos matrices como entrada y devuelven la matriz resultante de la multiplicación.\n",
        "\n",
        "El algoritmo de multiplicación de matrices implementado manualmente sigue el enfoque tradicional de multiplicación de matrices, donde cada elemento de la matriz resultante se calcula sumando los productos de los elementos correspondientes de las filas de la primera matriz y las columnas de la segunda matriz.\n",
        "\n",
        "El objetivo del script es comparar el rendimiento de las dos implementaciones (NumPy y Python puro) en términos de tiempo de ejecución, especialmente al manejar matrices grandes."
      ],
      "metadata": {
        "id": "_H6zBRcauNV9"
      }
    },
    {
      "cell_type": "markdown",
      "source": [
        "Tensores"
      ],
      "metadata": {
        "id": "AoiubLupuxLa"
      }
    },
    {
      "cell_type": "code",
      "source": [
        "import tensorflow as tf\n",
        "import time\n",
        "import os\n",
        "\n",
        "# Definir el tamaño de los tensores grandes\n",
        "tensor_size = 10000\n",
        "\n",
        "# Generar dos tensores aleatorios de tamaño tensor_size x tensor_size\n",
        "tensor_a = tf.random.normal([tensor_size, tensor_size])\n",
        "tensor_b = tf.random.normal([tensor_size, tensor_size])\n",
        "\n",
        "# Función para multiplicar los tensores y medir el tiempo de ejecución\n",
        "def multiply_and_measure_time(tensor_a, tensor_b, device_name):\n",
        "    start_time = time.time()\n",
        "    result = tf.matmul(tensor_a, tensor_b)\n",
        "    execution_time = time.time() - start_time\n",
        "    print(f\"Tiempo de ejecución en {device_name}: {execution_time:.4f} segundos\")\n",
        "\n",
        "# Multiplicar los tensores en CPU\n",
        "with tf.device('/CPU:0'):\n",
        "    multiply_and_measure_time(tensor_a, tensor_b, \"CPU\")\n",
        "\n",
        "# Multiplicar los tensores en GPU si está disponible\n",
        "if tf.config.experimental.list_physical_devices('GPU'):\n",
        "    with tf.device('/GPU:0'):\n",
        "        multiply_and_measure_time(tensor_a, tensor_b, \"GPU\")\n",
        "else:\n",
        "    print(\"No se detectó GPU.\")\n",
        "\n",
        "# Multiplicar los tensores en TPU si está disponible\n",
        "if 'COLAB_TPU_ADDR' in os.environ:\n",
        "    resolver = tf.distribute.cluster_resolver.TPUClusterResolver(tpu='grpc://' + os.environ['COLAB_TPU_ADDR'])\n",
        "    tf.config.experimental_connect_to_cluster(resolver)\n",
        "    tf.tpu.experimental.initialize_tpu_system(resolver)\n",
        "    strategy = tf.distribute.TPUStrategy(resolver)\n",
        "    with strategy.scope():\n",
        "        tensor_a_tpu = tf.constant(tensor_a)\n",
        "        tensor_b_tpu = tf.constant(tensor_b)\n",
        "        multiply_and_measure_time(tensor_a_tpu, tensor_b_tpu, \"TPU\")\n",
        "else:\n",
        "    print(\"No se detectó TPU.\")\n"
      ],
      "metadata": {
        "id": "E7D_4Dl8u0GC"
      },
      "execution_count": null,
      "outputs": []
    },
    {
      "cell_type": "markdown",
      "source": [
        "Este código en Python utiliza TensorFlow para realizar la multiplicación de dos tensores grandes y medir el tiempo de ejecución en diferentes dispositivos de procesamiento, como CPU, GPU y TPU. Aquí hay un resumen de lo que hace cada parte del código:\n",
        "\n",
        "Importar bibliotecas:\n",
        "\n",
        "Se importan las bibliotecas necesarias, incluyendo TensorFlow (import tensorflow as tf), la biblioteca time para medir el tiempo y os para trabajar con variables de entorno.\n",
        "Definir el tamaño de los tensores:\n",
        "\n",
        "Se establece el tamaño de los tensores (tensor_size) en 10000, lo que representa tensores grandes.\n",
        "Generar tensores aleatorios:\n",
        "\n",
        "Se generan dos tensores aleatorios de tamaño tensor_size x tensor_size utilizando la función tf.random.normal() de TensorFlow.\n",
        "Función para multiplicar tensores y medir el tiempo:\n",
        "\n",
        "Se define una función llamada multiply_and_measure_time() que toma dos tensores y un nombre de dispositivo como entrada.\n",
        "Dentro de la función, se utiliza tf.matmul() para multiplicar los tensores y se mide el tiempo de ejecución utilizando la función time.time().\n",
        "Se imprime el tiempo de ejecución en segundos junto con el nombre del dispositivo.\n",
        "Multiplicación de tensores en CPU:\n",
        "\n",
        "Se utiliza un bloque with tf.device('/CPU:0') para especificar que la multiplicación de tensores se realizará en la CPU.\n",
        "Se llama a la función multiply_and_measure_time() con los tensores y el nombre del dispositivo (CPU).\n",
        "Multiplicación de tensores en GPU (si está disponible):\n",
        "\n",
        "Se verifica si hay dispositivos GPU disponibles utilizando tf.config.experimental.list_physical_devices('GPU').\n",
        "Si hay GPU disponible, se utiliza un bloque with tf.device('/GPU:0') para especificar que la multiplicación de tensores se realizará en la GPU.\n",
        "Se llama a la función multiply_and_measure_time() con los tensores y el nombre del dispositivo (GPU).\n",
        "Multiplicación de tensores en TPU (si está disponible):\n",
        "\n",
        "Se verifica si hay una dirección TPU disponible en las variables de entorno.\n",
        "Si hay una dirección TPU disponible, se configura un resolver de clúster TPU y se inicializa el sistema TPU.\n",
        "Se utiliza un contexto with strategy.scope() para especificar que la multiplicación de tensores se realizará en la TPU.\n",
        "Se convierten los tensores a constantes TPU y se llama a la función multiply_and_measure_time() con los tensores y el nombre del dispositivo (TPU).\n",
        "Este código proporciona una manera eficiente de medir el rendimiento de la multiplicación de tensores en diferentes dispositivos de procesamiento, lo que permite comparar y evaluar la velocidad de ejecución en CPU, GPU y TPU."
      ],
      "metadata": {
        "id": "bET7i52o0iG2"
      }
    }
  ]
}